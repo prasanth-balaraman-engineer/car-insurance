{
 "cells": [
  {
   "cell_type": "code",
   "execution_count": null,
   "id": "3843d605",
   "metadata": {},
   "outputs": [],
   "source": [
    "import os\n",
    "import sys\n",
    "from dotenv import find_dotenv\n",
    "\n",
    "# adds project directory to syspath to use python code from project directory in notebook\n",
    "sys.path.append(os.path.dirname(find_dotenv()))"
   ]
  },
  {
   "cell_type": "code",
   "execution_count": null,
   "id": "beeaaaba",
   "metadata": {},
   "outputs": [],
   "source": [
    "import numpy as np\n",
    "import pandas as pd\n",
    "import matplotlib.pyplot as plt\n",
    "import shap\n",
    "\n",
    "from sklearn.model_selection import train_test_split, cross_val_score, cross_val_predict\n",
    "from sklearn.impute import SimpleImputer\n",
    "from sklearn.preprocessing import StandardScaler, OneHotEncoder\n",
    "from sklearn.pipeline import make_pipeline\n",
    "from sklearn.compose import ColumnTransformer\n",
    "from sklearn.linear_model import SGDClassifier, LogisticRegression\n",
    "from sklearn.svm import SVC\n",
    "from sklearn.tree import DecisionTreeClassifier\n",
    "from sklearn.ensemble import RandomForestClassifier, AdaBoostClassifier\n",
    "from sklearn.neural_network import MLPClassifier\n",
    "from sklearn.naive_bayes import GaussianNB\n",
    "from sklearn.dummy import DummyClassifier\n",
    "from sklearn.metrics import confusion_matrix, precision_score, recall_score, precision_recall_curve, ConfusionMatrixDisplay\n",
    "from xgboost import XGBClassifier\n",
    "\n",
    "from lib.constants import DATASET_PATH\n",
    "from lib.config import EDUCATION_MAPPING, OUTCOME_MAPPING, ALL_COLUMNS, JOB_IMPUTATION_PARAMS_DICT, COMMUNICATION_IMPUTATION_PARAMS_DICT, ONE_HOT_ENCODING_COLUMNS, SCALABLE_NUMERIC_COLUMNS\n",
    "from lib.transformers import CallDurationInMinutesTransformer, CallDurationInSecondsTransformer, OrdinalMappingTransformer, SelectFeaturesTransformer, SimpleImputationTransformer\n",
    "from lib.trainer import run_classification_grid_search"
   ]
  },
  {
   "cell_type": "code",
   "execution_count": null,
   "id": "773c79bc",
   "metadata": {},
   "outputs": [],
   "source": [
    "car_insurance_dataset = pd.read_csv(DATASET_PATH)\n",
    "car_insurance_dataset.shape"
   ]
  },
  {
   "cell_type": "code",
   "execution_count": null,
   "id": "32dd31bf",
   "metadata": {},
   "outputs": [],
   "source": [
    "strat_train_set, strat_test_set = train_test_split(\n",
    "    car_insurance_dataset, test_size=0.2, stratify=car_insurance_dataset['CarInsurance'], random_state=42)\n",
    "\n",
    "strat_train_set.shape, strat_test_set.shape"
   ]
  },
  {
   "cell_type": "code",
   "execution_count": null,
   "id": "285c1b6d",
   "metadata": {},
   "outputs": [],
   "source": [
    "car_insurance = car_insurance_dataset.drop('CarInsurance', axis=1)\n",
    "car_insurance_labels = car_insurance_dataset['CarInsurance'].copy()"
   ]
  },
  {
   "cell_type": "code",
   "execution_count": null,
   "id": "5341da94",
   "metadata": {},
   "outputs": [],
   "source": [
    "car_insurance.head()"
   ]
  },
  {
   "cell_type": "code",
   "execution_count": null,
   "id": "776c25e7",
   "metadata": {},
   "outputs": [],
   "source": [
    "feature_engineering_pipeline = make_pipeline(\n",
    "    CallDurationInMinutesTransformer(),\n",
    "    CallDurationInSecondsTransformer(),\n",
    "    OrdinalMappingTransformer(feature_column='Education', mapping_dict=EDUCATION_MAPPING),\n",
    "    OrdinalMappingTransformer(feature_column='Outcome', mapping_dict=OUTCOME_MAPPING),\n",
    "    SimpleImputationTransformer(feature_column='Job', imputation_params_dict=JOB_IMPUTATION_PARAMS_DICT),\n",
    "    SimpleImputationTransformer(feature_column='Communication', imputation_params_dict=COMMUNICATION_IMPUTATION_PARAMS_DICT),\n",
    "    SelectFeaturesTransformer(features=ALL_COLUMNS),\n",
    ")\n",
    "\n",
    "features = feature_engineering_pipeline.fit_transform(car_insurance)\n",
    "features.head()"
   ]
  },
  {
   "cell_type": "code",
   "execution_count": null,
   "id": "1e566bf6",
   "metadata": {},
   "outputs": [],
   "source": [
    "features.info()"
   ]
  },
  {
   "cell_type": "code",
   "execution_count": null,
   "id": "fa0e5e22",
   "metadata": {},
   "outputs": [],
   "source": [
    "encoder_pipeline = ColumnTransformer([\n",
    "    ('categorical_encoding', OneHotEncoder(), ONE_HOT_ENCODING_COLUMNS),\n",
    "    ('numerical_scaling', StandardScaler(), SCALABLE_NUMERIC_COLUMNS),\n",
    "], remainder='passthrough')\n",
    "\n",
    "feature_vector_pipeline = make_pipeline(\n",
    "    feature_engineering_pipeline,\n",
    "    encoder_pipeline,\n",
    ")"
   ]
  },
  {
   "cell_type": "code",
   "execution_count": null,
   "id": "8d89437c",
   "metadata": {},
   "outputs": [],
   "source": [
    "GRID_SEARCH_PARAMS = {\n",
    "    'Linear SVM': (SVC(), {}),\n",
    "    'Decision Tree': (DecisionTreeClassifier(), {}),\n",
    "    'Random Forest': (RandomForestClassifier(), {}),\n",
    "    'Neural Net': (MLPClassifier(), {}),\n",
    "    'AdaBoost': (AdaBoostClassifier(), {}),\n",
    "    'Naive Bayes': (GaussianNB(), {}),\n",
    "    'XGB': (XGBClassifier(objective='binary:logistic'), {}),\n",
    "}\n",
    "\n",
    "best_score, best_classifier, best_classifier_name, best_params = run_classification_grid_search(\n",
    "    params_grid=GRID_SEARCH_PARAMS, pipeline=feature_vector_pipeline, X=car_insurance, y=car_insurance_labels)"
   ]
  },
  {
   "cell_type": "code",
   "execution_count": null,
   "id": "27c630ba",
   "metadata": {},
   "outputs": [],
   "source": [
    "best_classifier"
   ]
  },
  {
   "cell_type": "code",
   "execution_count": null,
   "id": "b9dcc45b",
   "metadata": {},
   "outputs": [],
   "source": [
    "car_insurance_labels_pred = cross_val_predict(best_classifier, car_insurance, car_insurance_labels, cv=3)\n",
    "\n",
    "ConfusionMatrixDisplay.from_predictions(car_insurance_labels, car_insurance_labels_pred)\n",
    "plt.show()"
   ]
  },
  {
   "cell_type": "code",
   "execution_count": null,
   "id": "99f16809",
   "metadata": {},
   "outputs": [],
   "source": [
    "precision_score(car_insurance_labels, car_insurance_labels_pred)"
   ]
  },
  {
   "cell_type": "code",
   "execution_count": null,
   "id": "d96e77eb",
   "metadata": {},
   "outputs": [],
   "source": [
    "recall_score(car_insurance_labels, car_insurance_labels_pred)"
   ]
  },
  {
   "cell_type": "code",
   "execution_count": null,
   "id": "36a52a27",
   "metadata": {},
   "outputs": [],
   "source": []
  }
 ],
 "metadata": {
  "kernelspec": {
   "display_name": "python310",
   "language": "python",
   "name": "python310"
  },
  "language_info": {
   "codemirror_mode": {
    "name": "ipython",
    "version": 3
   },
   "file_extension": ".py",
   "mimetype": "text/x-python",
   "name": "python",
   "nbconvert_exporter": "python",
   "pygments_lexer": "ipython3",
   "version": "3.10.4"
  }
 },
 "nbformat": 4,
 "nbformat_minor": 5
}
